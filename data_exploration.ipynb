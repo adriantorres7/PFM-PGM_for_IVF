{
 "cells": [
  {
   "cell_type": "code",
   "execution_count": 1,
   "metadata": {
    "ExecuteTime": {
     "end_time": "2021-07-01T15:24:52.228795Z",
     "start_time": "2021-07-01T15:24:50.401562Z"
    }
   },
   "outputs": [],
   "source": [
    "import pandas as pd\n",
    "import matplotlib.pyplot as plt\n",
    "import numpy as np\n",
    "from src.datasets import eu_data_ehu"
   ]
  },
  {
   "cell_type": "markdown",
   "metadata": {},
   "source": [
    "In this notebook we present an exploration of the datasets for both cycles and embryos. We start by displaying which features are stored in the raw datasets and then show what comes out of the preprocessing stage. For the rest of the notebook we investigate relevant properties of the features and important interactions between them."
   ]
  },
  {
   "cell_type": "markdown",
   "metadata": {},
   "source": [
    "# Importing data"
   ]
  },
  {
   "cell_type": "markdown",
   "metadata": {},
   "source": [
    "## Raw data"
   ]
  },
  {
   "cell_type": "code",
   "execution_count": 2,
   "metadata": {
    "ExecuteTime": {
     "end_time": "2021-07-01T15:24:52.260848Z",
     "start_time": "2021-07-01T15:24:52.230784Z"
    }
   },
   "outputs": [],
   "source": [
    "data_cycles = pd.read_csv('data/eh_cycles.csv', sep=',', header=0)"
   ]
  },
  {
   "cell_type": "code",
   "execution_count": 3,
   "metadata": {
    "ExecuteTime": {
     "end_time": "2021-07-01T15:24:52.276885Z",
     "start_time": "2021-07-01T15:24:52.261858Z"
    }
   },
   "outputs": [
    {
     "data": {
      "text/plain": [
       "['Codigo',\n",
       " 'TEsteril',\n",
       " 'Indicac',\n",
       " 'Edad',\n",
       " 'IMC',\n",
       " 'EmbPrev',\n",
       " 'AboPrev',\n",
       " 'FSH',\n",
       " 'Ciclosprevios',\n",
       " 'AMH',\n",
       " 'folAntral',\n",
       " 'E2',\n",
       " 'P4',\n",
       " 'lEnd',\n",
       " 'caSemen',\n",
       " 'REM',\n",
       " 'Protocol',\n",
       " 'Estimul',\n",
       " 'dEst',\n",
       " 'unidFSH',\n",
       " 'unidLH',\n",
       " 'nEmbObten',\n",
       " 'TasaFertil',\n",
       " 'nEmbTrans',\n",
       " 'TasaExito']"
      ]
     },
     "execution_count": 3,
     "metadata": {},
     "output_type": "execute_result"
    }
   ],
   "source": [
    "list(data_cycles)"
   ]
  },
  {
   "cell_type": "code",
   "execution_count": 4,
   "metadata": {
    "ExecuteTime": {
     "end_time": "2021-07-01T15:24:52.323857Z",
     "start_time": "2021-07-01T15:24:52.278859Z"
    }
   },
   "outputs": [
    {
     "data": {
      "text/html": [
       "<div>\n",
       "<style scoped>\n",
       "    .dataframe tbody tr th:only-of-type {\n",
       "        vertical-align: middle;\n",
       "    }\n",
       "\n",
       "    .dataframe tbody tr th {\n",
       "        vertical-align: top;\n",
       "    }\n",
       "\n",
       "    .dataframe thead th {\n",
       "        text-align: right;\n",
       "    }\n",
       "</style>\n",
       "<table border=\"1\" class=\"dataframe\">\n",
       "  <thead>\n",
       "    <tr style=\"text-align: right;\">\n",
       "      <th></th>\n",
       "      <th>Codigo</th>\n",
       "      <th>TEsteril</th>\n",
       "      <th>Indicac</th>\n",
       "      <th>Edad</th>\n",
       "      <th>IMC</th>\n",
       "      <th>EmbPrev</th>\n",
       "      <th>AboPrev</th>\n",
       "      <th>FSH</th>\n",
       "      <th>Ciclosprevios</th>\n",
       "      <th>AMH</th>\n",
       "      <th>folAntral</th>\n",
       "      <th>E2</th>\n",
       "      <th>P4</th>\n",
       "      <th>lEnd</th>\n",
       "      <th>caSemen</th>\n",
       "      <th>REM</th>\n",
       "      <th>Protocol</th>\n",
       "      <th>Estimul</th>\n",
       "      <th>dEst</th>\n",
       "      <th>unidFSH</th>\n",
       "      <th>unidLH</th>\n",
       "      <th>nEmbObten</th>\n",
       "      <th>TasaFertil</th>\n",
       "      <th>nEmbTrans</th>\n",
       "      <th>TasaExito</th>\n",
       "    </tr>\n",
       "  </thead>\n",
       "  <tbody>\n",
       "    <tr>\n",
       "      <th>0</th>\n",
       "      <td>0</td>\n",
       "      <td>5</td>\n",
       "      <td>masculino</td>\n",
       "      <td>39</td>\n",
       "      <td>24.06</td>\n",
       "      <td>No</td>\n",
       "      <td>No</td>\n",
       "      <td>8.3</td>\n",
       "      <td>1.0</td>\n",
       "      <td>2.3</td>\n",
       "      <td>20.0</td>\n",
       "      <td>4555.0</td>\n",
       "      <td>1.5</td>\n",
       "      <td>10.0</td>\n",
       "      <td>OAT</td>\n",
       "      <td>0.2</td>\n",
       "      <td>PC+Ant</td>\n",
       "      <td>FSHur+hMG</td>\n",
       "      <td>10</td>\n",
       "      <td>3000.0</td>\n",
       "      <td>750.0</td>\n",
       "      <td>7.0</td>\n",
       "      <td>78.0</td>\n",
       "      <td>2.0</td>\n",
       "      <td>0.0</td>\n",
       "    </tr>\n",
       "    <tr>\n",
       "      <th>1</th>\n",
       "      <td>1</td>\n",
       "      <td>4</td>\n",
       "      <td>mixto</td>\n",
       "      <td>34</td>\n",
       "      <td>21.60</td>\n",
       "      <td>No</td>\n",
       "      <td>No</td>\n",
       "      <td>10.7</td>\n",
       "      <td>0.0</td>\n",
       "      <td>1.1</td>\n",
       "      <td>4.0</td>\n",
       "      <td>2257.0</td>\n",
       "      <td>0.5</td>\n",
       "      <td>10.0</td>\n",
       "      <td>A</td>\n",
       "      <td>7.4</td>\n",
       "      <td>PC+Ant</td>\n",
       "      <td>FSHrec+hMG</td>\n",
       "      <td>11</td>\n",
       "      <td>4125.0</td>\n",
       "      <td>1650.0</td>\n",
       "      <td>4.0</td>\n",
       "      <td>100.0</td>\n",
       "      <td>3.0</td>\n",
       "      <td>0.0</td>\n",
       "    </tr>\n",
       "    <tr>\n",
       "      <th>2</th>\n",
       "      <td>2</td>\n",
       "      <td>2</td>\n",
       "      <td>mixto</td>\n",
       "      <td>36</td>\n",
       "      <td>19.84</td>\n",
       "      <td>No</td>\n",
       "      <td>No</td>\n",
       "      <td>6.1</td>\n",
       "      <td>0.0</td>\n",
       "      <td>0.8</td>\n",
       "      <td>10.0</td>\n",
       "      <td>2789.0</td>\n",
       "      <td>1.1</td>\n",
       "      <td>8.4</td>\n",
       "      <td>A</td>\n",
       "      <td>0.3</td>\n",
       "      <td>PC+Ant</td>\n",
       "      <td>FSHrec+hMG</td>\n",
       "      <td>11</td>\n",
       "      <td>3750.0</td>\n",
       "      <td>1275.0</td>\n",
       "      <td>2.0</td>\n",
       "      <td>25.0</td>\n",
       "      <td>2.0</td>\n",
       "      <td>0.0</td>\n",
       "    </tr>\n",
       "    <tr>\n",
       "      <th>3</th>\n",
       "      <td>3</td>\n",
       "      <td>3</td>\n",
       "      <td>tubarico</td>\n",
       "      <td>39</td>\n",
       "      <td>21.60</td>\n",
       "      <td>Si</td>\n",
       "      <td>Si</td>\n",
       "      <td>5.4</td>\n",
       "      <td>0.0</td>\n",
       "      <td>1.8</td>\n",
       "      <td>9.0</td>\n",
       "      <td>1200.0</td>\n",
       "      <td>0.8</td>\n",
       "      <td>10.0</td>\n",
       "      <td>N</td>\n",
       "      <td>34.1</td>\n",
       "      <td>PC+Ant</td>\n",
       "      <td>FSHrec+hMG</td>\n",
       "      <td>9</td>\n",
       "      <td>2850.0</td>\n",
       "      <td>1200.0</td>\n",
       "      <td>2.0</td>\n",
       "      <td>67.0</td>\n",
       "      <td>2.0</td>\n",
       "      <td>0.0</td>\n",
       "    </tr>\n",
       "    <tr>\n",
       "      <th>4</th>\n",
       "      <td>4</td>\n",
       "      <td>4</td>\n",
       "      <td>fracasoia</td>\n",
       "      <td>34</td>\n",
       "      <td>20.00</td>\n",
       "      <td>Si</td>\n",
       "      <td>Si</td>\n",
       "      <td>7.0</td>\n",
       "      <td>0.0</td>\n",
       "      <td>1.3</td>\n",
       "      <td>10.0</td>\n",
       "      <td>2972.0</td>\n",
       "      <td>1.0</td>\n",
       "      <td>9.6</td>\n",
       "      <td>N</td>\n",
       "      <td>37.2</td>\n",
       "      <td>PC+Ant</td>\n",
       "      <td>FSHrec</td>\n",
       "      <td>9</td>\n",
       "      <td>2550.0</td>\n",
       "      <td>0.0</td>\n",
       "      <td>7.0</td>\n",
       "      <td>70.0</td>\n",
       "      <td>3.0</td>\n",
       "      <td>0.0</td>\n",
       "    </tr>\n",
       "  </tbody>\n",
       "</table>\n",
       "</div>"
      ],
      "text/plain": [
       "   Codigo  TEsteril    Indicac  Edad    IMC EmbPrev AboPrev   FSH  \\\n",
       "0       0         5  masculino    39  24.06      No      No   8.3   \n",
       "1       1         4      mixto    34  21.60      No      No  10.7   \n",
       "2       2         2      mixto    36  19.84      No      No   6.1   \n",
       "3       3         3   tubarico    39  21.60      Si      Si   5.4   \n",
       "4       4         4  fracasoia    34  20.00      Si      Si   7.0   \n",
       "\n",
       "   Ciclosprevios  AMH  folAntral      E2   P4  lEnd caSemen   REM Protocol  \\\n",
       "0            1.0  2.3       20.0  4555.0  1.5  10.0     OAT   0.2   PC+Ant   \n",
       "1            0.0  1.1        4.0  2257.0  0.5  10.0       A   7.4   PC+Ant   \n",
       "2            0.0  0.8       10.0  2789.0  1.1   8.4       A   0.3   PC+Ant   \n",
       "3            0.0  1.8        9.0  1200.0  0.8  10.0       N  34.1   PC+Ant   \n",
       "4            0.0  1.3       10.0  2972.0  1.0   9.6       N  37.2   PC+Ant   \n",
       "\n",
       "      Estimul  dEst  unidFSH  unidLH  nEmbObten  TasaFertil  nEmbTrans  \\\n",
       "0   FSHur+hMG    10   3000.0   750.0        7.0        78.0        2.0   \n",
       "1  FSHrec+hMG    11   4125.0  1650.0        4.0       100.0        3.0   \n",
       "2  FSHrec+hMG    11   3750.0  1275.0        2.0        25.0        2.0   \n",
       "3  FSHrec+hMG     9   2850.0  1200.0        2.0        67.0        2.0   \n",
       "4      FSHrec     9   2550.0     0.0        7.0        70.0        3.0   \n",
       "\n",
       "   TasaExito  \n",
       "0        0.0  \n",
       "1        0.0  \n",
       "2        0.0  \n",
       "3        0.0  \n",
       "4        0.0  "
      ]
     },
     "execution_count": 4,
     "metadata": {},
     "output_type": "execute_result"
    }
   ],
   "source": [
    "pd.set_option('display.max_columns', 50)\n",
    "data_cycles.head()"
   ]
  },
  {
   "cell_type": "code",
   "execution_count": 5,
   "metadata": {
    "ExecuteTime": {
     "end_time": "2021-07-01T15:24:52.354859Z",
     "start_time": "2021-07-01T15:24:52.324860Z"
    }
   },
   "outputs": [],
   "source": [
    "data_embryos = pd.read_csv('data/eh_embryos.csv', sep=',', header=0)"
   ]
  },
  {
   "cell_type": "code",
   "execution_count": 6,
   "metadata": {
    "ExecuteTime": {
     "end_time": "2021-07-01T15:24:52.370860Z",
     "start_time": "2021-07-01T15:24:52.356870Z"
    }
   },
   "outputs": [
    {
     "data": {
      "text/plain": [
       "['CodigoCiclo',\n",
       " 'CodigoOvoc',\n",
       " 'Tecnica',\n",
       " 'Vac',\n",
       " 'REL',\n",
       " 'Epv',\n",
       " 'CP',\n",
       " 'PN',\n",
       " 'CP.1',\n",
       " 'Z',\n",
       " 'nCel+2',\n",
       " 'frag+2',\n",
       " 'simet+2',\n",
       " 'ZP+2',\n",
       " 'vac+2',\n",
       " 'multiNuc+2',\n",
       " 'CALIDAD+2',\n",
       " 'Transfer',\n",
       " 'Vitrificado',\n",
       " 'TasaExito']"
      ]
     },
     "execution_count": 6,
     "metadata": {},
     "output_type": "execute_result"
    }
   ],
   "source": [
    "list(data_embryos)"
   ]
  },
  {
   "cell_type": "code",
   "execution_count": 7,
   "metadata": {
    "ExecuteTime": {
     "end_time": "2021-07-01T15:24:52.402860Z",
     "start_time": "2021-07-01T15:24:52.378859Z"
    }
   },
   "outputs": [
    {
     "data": {
      "text/html": [
       "<div>\n",
       "<style scoped>\n",
       "    .dataframe tbody tr th:only-of-type {\n",
       "        vertical-align: middle;\n",
       "    }\n",
       "\n",
       "    .dataframe tbody tr th {\n",
       "        vertical-align: top;\n",
       "    }\n",
       "\n",
       "    .dataframe thead th {\n",
       "        text-align: right;\n",
       "    }\n",
       "</style>\n",
       "<table border=\"1\" class=\"dataframe\">\n",
       "  <thead>\n",
       "    <tr style=\"text-align: right;\">\n",
       "      <th></th>\n",
       "      <th>CodigoCiclo</th>\n",
       "      <th>CodigoOvoc</th>\n",
       "      <th>Tecnica</th>\n",
       "      <th>Vac</th>\n",
       "      <th>REL</th>\n",
       "      <th>Epv</th>\n",
       "      <th>CP</th>\n",
       "      <th>PN</th>\n",
       "      <th>CP.1</th>\n",
       "      <th>Z</th>\n",
       "      <th>nCel+2</th>\n",
       "      <th>frag+2</th>\n",
       "      <th>simet+2</th>\n",
       "      <th>ZP+2</th>\n",
       "      <th>vac+2</th>\n",
       "      <th>multiNuc+2</th>\n",
       "      <th>CALIDAD+2</th>\n",
       "      <th>Transfer</th>\n",
       "      <th>Vitrificado</th>\n",
       "      <th>TasaExito</th>\n",
       "    </tr>\n",
       "  </thead>\n",
       "  <tbody>\n",
       "    <tr>\n",
       "      <th>0</th>\n",
       "      <td>0</td>\n",
       "      <td>0</td>\n",
       "      <td>ICSI</td>\n",
       "      <td>No</td>\n",
       "      <td>No</td>\n",
       "      <td>Normal</td>\n",
       "      <td>Normal</td>\n",
       "      <td>2</td>\n",
       "      <td>2</td>\n",
       "      <td>Z1</td>\n",
       "      <td>4.0</td>\n",
       "      <td>10.0</td>\n",
       "      <td>Si</td>\n",
       "      <td>Normal</td>\n",
       "      <td>No</td>\n",
       "      <td>No</td>\n",
       "      <td>A</td>\n",
       "      <td>Si</td>\n",
       "      <td>NaN</td>\n",
       "      <td>0.0</td>\n",
       "    </tr>\n",
       "    <tr>\n",
       "      <th>1</th>\n",
       "      <td>0</td>\n",
       "      <td>1</td>\n",
       "      <td>ICSI</td>\n",
       "      <td>No</td>\n",
       "      <td>No</td>\n",
       "      <td>Normal</td>\n",
       "      <td>Normal</td>\n",
       "      <td>2</td>\n",
       "      <td>2</td>\n",
       "      <td>Z1</td>\n",
       "      <td>4.0</td>\n",
       "      <td>10.0</td>\n",
       "      <td>No</td>\n",
       "      <td>Normal</td>\n",
       "      <td>No</td>\n",
       "      <td>No</td>\n",
       "      <td>C</td>\n",
       "      <td>No</td>\n",
       "      <td>NaN</td>\n",
       "      <td>NaN</td>\n",
       "    </tr>\n",
       "    <tr>\n",
       "      <th>2</th>\n",
       "      <td>0</td>\n",
       "      <td>2</td>\n",
       "      <td>ICSI</td>\n",
       "      <td>No</td>\n",
       "      <td>No</td>\n",
       "      <td>Normal</td>\n",
       "      <td>Normal</td>\n",
       "      <td>2</td>\n",
       "      <td>2</td>\n",
       "      <td>Z1</td>\n",
       "      <td>2.0</td>\n",
       "      <td>20.0</td>\n",
       "      <td>Si</td>\n",
       "      <td>Normal</td>\n",
       "      <td>No</td>\n",
       "      <td>No</td>\n",
       "      <td>B</td>\n",
       "      <td>No</td>\n",
       "      <td>NaN</td>\n",
       "      <td>NaN</td>\n",
       "    </tr>\n",
       "    <tr>\n",
       "      <th>3</th>\n",
       "      <td>0</td>\n",
       "      <td>3</td>\n",
       "      <td>ICSI</td>\n",
       "      <td>No</td>\n",
       "      <td>No</td>\n",
       "      <td>Normal</td>\n",
       "      <td>Normal</td>\n",
       "      <td>2</td>\n",
       "      <td>2</td>\n",
       "      <td>Z1</td>\n",
       "      <td>4.0</td>\n",
       "      <td>30.0</td>\n",
       "      <td>No</td>\n",
       "      <td>Normal</td>\n",
       "      <td>No</td>\n",
       "      <td>No</td>\n",
       "      <td>C</td>\n",
       "      <td>No</td>\n",
       "      <td>NaN</td>\n",
       "      <td>NaN</td>\n",
       "    </tr>\n",
       "    <tr>\n",
       "      <th>4</th>\n",
       "      <td>0</td>\n",
       "      <td>4</td>\n",
       "      <td>ICSI</td>\n",
       "      <td>No</td>\n",
       "      <td>No</td>\n",
       "      <td>Normal</td>\n",
       "      <td>Normal</td>\n",
       "      <td>2</td>\n",
       "      <td>2</td>\n",
       "      <td>Z1</td>\n",
       "      <td>4.0</td>\n",
       "      <td>5.0</td>\n",
       "      <td>Si</td>\n",
       "      <td>Normal</td>\n",
       "      <td>No</td>\n",
       "      <td>No</td>\n",
       "      <td>A</td>\n",
       "      <td>Si</td>\n",
       "      <td>NaN</td>\n",
       "      <td>0.0</td>\n",
       "    </tr>\n",
       "  </tbody>\n",
       "</table>\n",
       "</div>"
      ],
      "text/plain": [
       "   CodigoCiclo  CodigoOvoc Tecnica Vac REL     Epv      CP  PN  CP.1   Z  \\\n",
       "0            0           0    ICSI  No  No  Normal  Normal   2     2  Z1   \n",
       "1            0           1    ICSI  No  No  Normal  Normal   2     2  Z1   \n",
       "2            0           2    ICSI  No  No  Normal  Normal   2     2  Z1   \n",
       "3            0           3    ICSI  No  No  Normal  Normal   2     2  Z1   \n",
       "4            0           4    ICSI  No  No  Normal  Normal   2     2  Z1   \n",
       "\n",
       "   nCel+2  frag+2 simet+2    ZP+2 vac+2 multiNuc+2 CALIDAD+2 Transfer  \\\n",
       "0     4.0    10.0      Si  Normal    No         No         A       Si   \n",
       "1     4.0    10.0      No  Normal    No         No         C       No   \n",
       "2     2.0    20.0      Si  Normal    No         No         B       No   \n",
       "3     4.0    30.0      No  Normal    No         No         C       No   \n",
       "4     4.0     5.0      Si  Normal    No         No         A       Si   \n",
       "\n",
       "  Vitrificado  TasaExito  \n",
       "0         NaN        0.0  \n",
       "1         NaN        NaN  \n",
       "2         NaN        NaN  \n",
       "3         NaN        NaN  \n",
       "4         NaN        0.0  "
      ]
     },
     "execution_count": 7,
     "metadata": {},
     "output_type": "execute_result"
    }
   ],
   "source": [
    "data_embryos.head()"
   ]
  },
  {
   "cell_type": "code",
   "execution_count": 8,
   "metadata": {
    "ExecuteTime": {
     "end_time": "2021-07-01T15:24:55.398723Z",
     "start_time": "2021-07-01T15:24:55.377723Z"
    }
   },
   "outputs": [
    {
     "data": {
      "text/plain": [
       "Codigo           False\n",
       "TEsteril         False\n",
       "Indicac          False\n",
       "Edad             False\n",
       "IMC              False\n",
       "EmbPrev          False\n",
       "AboPrev          False\n",
       "FSH              False\n",
       "Ciclosprevios    False\n",
       "AMH               True\n",
       "folAntral        False\n",
       "E2               False\n",
       "P4               False\n",
       "lEnd             False\n",
       "caSemen          False\n",
       "REM              False\n",
       "Protocol         False\n",
       "Estimul          False\n",
       "dEst             False\n",
       "unidFSH          False\n",
       "unidLH           False\n",
       "nEmbObten        False\n",
       "TasaFertil       False\n",
       "nEmbTrans        False\n",
       "TasaExito        False\n",
       "dtype: bool"
      ]
     },
     "execution_count": 8,
     "metadata": {},
     "output_type": "execute_result"
    }
   ],
   "source": [
    "data_cycles.isna().any()"
   ]
  },
  {
   "cell_type": "code",
   "execution_count": 9,
   "metadata": {
    "ExecuteTime": {
     "end_time": "2021-07-01T15:24:58.777861Z",
     "start_time": "2021-07-01T15:24:58.769851Z"
    }
   },
   "outputs": [
    {
     "data": {
      "text/plain": [
       "240"
      ]
     },
     "execution_count": 9,
     "metadata": {},
     "output_type": "execute_result"
    }
   ],
   "source": [
    "sum(data_cycles.AMH.isna())"
   ]
  },
  {
   "cell_type": "markdown",
   "metadata": {},
   "source": [
    "## Preprocessed data"
   ]
  },
  {
   "cell_type": "markdown",
   "metadata": {},
   "source": [
    "The preprocessing of the data occurs directly on the initialization method when we declare a new instance of the *eu_data_ehu* class (from the datasets module)."
   ]
  },
  {
   "cell_type": "code",
   "execution_count": 15,
   "metadata": {
    "ExecuteTime": {
     "end_time": "2021-06-30T19:05:13.385026Z",
     "start_time": "2021-06-30T19:05:13.251974Z"
    }
   },
   "outputs": [
    {
     "name": "stdout",
     "output_type": "stream",
     "text": [
      "--- unique self.embryo_was_implanted datasets.py: {-1: 2178, 0: 839, 1: 108}\n"
     ]
    }
   ],
   "source": [
    "data=eu_data_ehu()"
   ]
  },
  {
   "cell_type": "code",
   "execution_count": 17,
   "metadata": {
    "ExecuteTime": {
     "end_time": "2021-06-30T19:05:56.041907Z",
     "start_time": "2021-06-30T19:05:56.023913Z"
    }
   },
   "outputs": [
    {
     "data": {
      "text/plain": [
       "['CodigoCiclo',\n",
       " 'CodigoOvoc',\n",
       " 'PN',\n",
       " 'CP.1',\n",
       " 'nCel+2',\n",
       " 'frag+2',\n",
       " 'Transfer',\n",
       " 'Vitrificado',\n",
       " 'TasaExito',\n",
       " 'Tecnica_FIV',\n",
       " 'Tecnica_ICSI',\n",
       " 'Vac_Abundantes',\n",
       " 'Vac_Escasas',\n",
       " 'Vac_No',\n",
       " 'REL_No',\n",
       " 'REL_Si',\n",
       " 'Epv_Aumentado',\n",
       " 'Epv_Normal',\n",
       " 'CP_Anormal',\n",
       " 'CP_Normal',\n",
       " 'Z_Z1',\n",
       " 'Z_Z2',\n",
       " 'Z_Z3',\n",
       " 'Z_Z4',\n",
       " 'simet+2_No',\n",
       " 'simet+2_Si',\n",
       " 'ZP+2_Anormal',\n",
       " 'ZP+2_Normal',\n",
       " 'vac+2_Abundantes',\n",
       " 'vac+2_Escasas',\n",
       " 'vac+2_No',\n",
       " 'multiNuc+2_NO',\n",
       " 'multiNuc+2_No',\n",
       " 'multiNuc+2_Si',\n",
       " 'CALIDAD+2_A',\n",
       " 'CALIDAD+2_B',\n",
       " 'CALIDAD+2_C',\n",
       " 'CALIDAD+2_D']"
      ]
     },
     "execution_count": 17,
     "metadata": {},
     "output_type": "execute_result"
    }
   ],
   "source": [
    "list(data.data_embryos)"
   ]
  },
  {
   "cell_type": "code",
   "execution_count": 18,
   "metadata": {
    "ExecuteTime": {
     "end_time": "2021-06-30T19:05:56.766910Z",
     "start_time": "2021-06-30T19:05:56.759932Z"
    }
   },
   "outputs": [
    {
     "data": {
      "text/plain": [
       "['Codigo',\n",
       " 'TEsteril',\n",
       " 'Edad',\n",
       " 'IMC',\n",
       " 'FSH',\n",
       " 'Ciclosprevios',\n",
       " 'AMH',\n",
       " 'folAntral',\n",
       " 'E2',\n",
       " 'P4',\n",
       " 'lEnd',\n",
       " 'REM',\n",
       " 'dEst',\n",
       " 'unidFSH',\n",
       " 'unidLH',\n",
       " 'nEmbObten',\n",
       " 'TasaFertil',\n",
       " 'nEmbTrans',\n",
       " 'TasaExito',\n",
       " 'Indicac_desconocido',\n",
       " 'Indicac_endometriosis',\n",
       " 'Indicac_fracasoia',\n",
       " 'Indicac_masculino',\n",
       " 'Indicac_mixto',\n",
       " 'Indicac_otros',\n",
       " 'Indicac_tubarico',\n",
       " 'EmbPrev_No',\n",
       " 'EmbPrev_Si',\n",
       " 'AboPrev_No',\n",
       " 'AboPrev_Si',\n",
       " 'caSemen_A',\n",
       " 'caSemen_N',\n",
       " 'caSemen_O',\n",
       " 'caSemen_OA',\n",
       " 'caSemen_OAT',\n",
       " 'Protocol_PC+Agon',\n",
       " 'Protocol_PC+Ant',\n",
       " 'Protocol_PL',\n",
       " 'Estimul_FSH+Lhrec',\n",
       " 'Estimul_FSHrec',\n",
       " 'Estimul_FSHrec+hMG',\n",
       " 'Estimul_FSHur',\n",
       " 'Estimul_FSHur+hMG',\n",
       " 'Estimul_hMG']"
      ]
     },
     "execution_count": 18,
     "metadata": {},
     "output_type": "execute_result"
    }
   ],
   "source": [
    "list(data.data_cycles)"
   ]
  },
  {
   "cell_type": "markdown",
   "metadata": {
    "ExecuteTime": {
     "end_time": "2021-06-30T10:41:56.794087Z",
     "start_time": "2021-06-30T10:41:56.646100Z"
    }
   },
   "source": [
    "This was the list of features for both embryos and cycles before removing unnecessary features and scaling. Once this last step is carried out we obtain the following arrays."
   ]
  },
  {
   "cell_type": "code",
   "execution_count": 20,
   "metadata": {
    "ExecuteTime": {
     "end_time": "2021-06-30T19:07:38.731793Z",
     "start_time": "2021-06-30T19:07:38.718795Z"
    }
   },
   "outputs": [
    {
     "data": {
      "text/plain": [
       "(3125, 25)"
      ]
     },
     "execution_count": 20,
     "metadata": {},
     "output_type": "execute_result"
    }
   ],
   "source": [
    "data.embryos.shape"
   ]
  },
  {
   "cell_type": "code",
   "execution_count": 21,
   "metadata": {
    "ExecuteTime": {
     "end_time": "2021-06-30T19:07:41.021783Z",
     "start_time": "2021-06-30T19:07:41.016777Z"
    }
   },
   "outputs": [
    {
     "data": {
      "text/plain": [
       "(604, 36)"
      ]
     },
     "execution_count": 21,
     "metadata": {},
     "output_type": "execute_result"
    }
   ],
   "source": [
    "data.cycles.shape"
   ]
  },
  {
   "cell_type": "markdown",
   "metadata": {
    "heading_collapsed": true
   },
   "source": [
    "# Data Exploration"
   ]
  },
  {
   "cell_type": "markdown",
   "metadata": {
    "heading_collapsed": true,
    "hidden": true
   },
   "source": [
    "## Success rates"
   ]
  },
  {
   "cell_type": "code",
   "execution_count": 11,
   "metadata": {
    "ExecuteTime": {
     "end_time": "2021-06-21T18:16:18.416132Z",
     "start_time": "2021-06-21T18:16:18.397132Z"
    },
    "hidden": true
   },
   "outputs": [
    {
     "name": "stdout",
     "output_type": "stream",
     "text": [
      "Total Cycles:  604\n",
      "Cycles resulting in pregnancy:  192\n",
      "Cycles w all embryos implanted:  57\n",
      "Cycles partially implanted:  135\n",
      "Failed cycles:  412\n"
     ]
    }
   ],
   "source": [
    "pos=sum(data_cycles['TasaExito'] > 0)\n",
    "full=sum(data_cycles['TasaExito']== 1)\n",
    "neg=sum(data_cycles['TasaExito'] == 0)\n",
    "\n",
    "print('Total Cycles: ',pos+neg)\n",
    "print('Cycles resulting in pregnancy: ', pos)\n",
    "print('Cycles w all embryos implanted: ', full)\n",
    "print('Cycles partially implanted: ', pos-full)\n",
    "print('Failed cycles: ', neg)"
   ]
  },
  {
   "cell_type": "code",
   "execution_count": 12,
   "metadata": {
    "ExecuteTime": {
     "end_time": "2021-06-21T18:16:19.786132Z",
     "start_time": "2021-06-21T18:16:19.645134Z"
    },
    "hidden": true
   },
   "outputs": [
    {
     "data": {
      "text/plain": [
       "Text(0, 0.5, 'Count')"
      ]
     },
     "execution_count": 12,
     "metadata": {},
     "output_type": "execute_result"
    },
    {
     "data": {
      "image/png": "[encoded data removed]",
      "text/plain": [
       "<Figure size 432x288 with 1 Axes>"
      ]
     },
     "metadata": {
      "needs_background": "light"
     },
     "output_type": "display_data"
    }
   ],
   "source": [
    "x=['Fully implanted', 'Partially implanted', 'Failed']\n",
    "y=[full,pos-full,neg]\n",
    "plt.bar(x,y,color=['b','g','r'])\n",
    "plt.title('Cycles')\n",
    "plt.ylabel('Count')"
   ]
  },
  {
   "cell_type": "code",
   "execution_count": 13,
   "metadata": {
    "ExecuteTime": {
     "end_time": "2021-06-20T22:47:46.156487Z",
     "start_time": "2021-06-20T22:47:46.142507Z"
    },
    "hidden": true
   },
   "outputs": [
    {
     "name": "stdout",
     "output_type": "stream",
     "text": [
      "Total embryos:  3125\n",
      "Transferred embryos:  1254\n",
      "Non-transferred embryos:  1871\n",
      "Known outcome (implanted):  108\n",
      "Known outcome (Not implanted):  839\n",
      "Unknown outcome (partially implanted):  307\n"
     ]
    }
   ],
   "source": [
    "pos=sum(data_embryos['TasaExito'] > 0)\n",
    "full=sum(data_embryos['TasaExito']== 1)\n",
    "neg=sum(data_embryos['TasaExito'] == 0)\n",
    "nan=sum(np.isnan(data_embryos['TasaExito']))\n",
    "print('Total embryos: ',pos+neg+nan)\n",
    "print('Transferred embryos: ', pos+neg)\n",
    "print('Non-transferred embryos: ', nan)\n",
    "print('Known outcome (implanted): ', full)\n",
    "print('Known outcome (Not implanted): ', neg)\n",
    "print('Unknown outcome (partially implanted): ', pos-full)"
   ]
  },
  {
   "cell_type": "code",
   "execution_count": 14,
   "metadata": {
    "ExecuteTime": {
     "end_time": "2021-06-20T22:47:46.284495Z",
     "start_time": "2021-06-20T22:47:46.158489Z"
    },
    "hidden": true
   },
   "outputs": [
    {
     "data": {
      "text/plain": [
       "Text(0, 0.5, 'Count')"
      ]
     },
     "execution_count": 14,
     "metadata": {},
     "output_type": "execute_result"
    },
    {
     "data": {
      "image/png": "[encoded data removed]",
      "text/plain": [
       "<Figure size 432x288 with 1 Axes>"
      ]
     },
     "metadata": {
      "needs_background": "light"
     },
     "output_type": "display_data"
    }
   ],
   "source": [
    "x=['Fully implanted', 'Partially implanted', 'Failed', 'Not transferred']\n",
    "y=[full,pos-full,neg,nan]\n",
    "plt.bar(x,y,color=['b','g','r','gray'])\n",
    "plt.title('Embryos')\n",
    "plt.ylabel('Count')"
   ]
  },
  {
   "cell_type": "markdown",
   "metadata": {
    "heading_collapsed": true,
    "hidden": true
   },
   "source": [
    "## ASEBIR quality"
   ]
  },
  {
   "cell_type": "code",
   "execution_count": 15,
   "metadata": {
    "ExecuteTime": {
     "end_time": "2021-06-20T22:47:46.487409Z",
     "start_time": "2021-06-20T22:47:46.357411Z"
    },
    "hidden": true
   },
   "outputs": [
    {
     "data": {
      "text/plain": [
       "<matplotlib.axes._subplots.AxesSubplot at 0x29a7d40a550>"
      ]
     },
     "execution_count": 15,
     "metadata": {},
     "output_type": "execute_result"
    },
    {
     "data": {
      "image/png": "[encoded data removed]",
      "text/plain": [
       "<Figure size 432x288 with 1 Axes>"
      ]
     },
     "metadata": {
      "needs_background": "light"
     },
     "output_type": "display_data"
    }
   ],
   "source": [
    "data_embryos['CALIDAD+2'].value_counts().sort_index().plot(kind='bar',color='b')"
   ]
  },
  {
   "cell_type": "code",
   "execution_count": 16,
   "metadata": {
    "ExecuteTime": {
     "end_time": "2021-06-20T22:47:46.694227Z",
     "start_time": "2021-06-20T22:47:46.531235Z"
    },
    "hidden": true
   },
   "outputs": [
    {
     "data": {
      "text/plain": [
       "<matplotlib.legend.Legend at 0x29a7d45f190>"
      ]
     },
     "execution_count": 16,
     "metadata": {},
     "output_type": "execute_result"
    },
    {
     "data": {
      "image/png": "[encoded data removed]",
      "text/plain": [
       "<Figure size 432x288 with 1 Axes>"
      ]
     },
     "metadata": {
      "needs_background": "light"
     },
     "output_type": "display_data"
    }
   ],
   "source": [
    "data_embryos.groupby(['CALIDAD+2', 'Transfer']\n",
    "                     )['CodigoCiclo'].count().unstack()[['Si', 'No']].plot(kind='bar',color=['b','gray'])\n",
    "plt.xlabel('ASEBIR score')\n",
    "plt.ylabel('Count')\n",
    "plt.legend(['Transferred', 'Not Transferred'])"
   ]
  },
  {
   "cell_type": "markdown",
   "metadata": {
    "heading_collapsed": true,
    "hidden": true
   },
   "source": [
    "## Success rate by ASEBIR quality"
   ]
  },
  {
   "cell_type": "code",
   "execution_count": 17,
   "metadata": {
    "ExecuteTime": {
     "end_time": "2021-06-20T22:47:46.710218Z",
     "start_time": "2021-06-20T22:47:46.696217Z"
    },
    "hidden": true
   },
   "outputs": [
    {
     "name": "stderr",
     "output_type": "stream",
     "text": [
      "<ipython-input-17-2bb770bda9b9>:2: SettingWithCopyWarning: \n",
      "A value is trying to be set on a copy of a slice from a DataFrame.\n",
      "Try using .loc[row_indexer,col_indexer] = value instead\n",
      "\n",
      "See the caveats in the documentation: https://pandas.pydata.org/pandas-docs/stable/user_guide/indexing.html#returning-a-view-versus-a-copy\n",
      "  Transferred['Outcome'] = np.where(Transferred['TasaExito'] == 1, 'Implanted', np.where(Transferred['TasaExito'] >0, 'Partial', 'Not Implanted'))\n"
     ]
    }
   ],
   "source": [
    "Transferred = data_embryos[data_embryos['TasaExito'].notnull()]\n",
    "Transferred['Outcome'] = np.where(Transferred['TasaExito'] == 1, 'Implanted', np.where(Transferred['TasaExito'] >0, 'Partial', 'Not Implanted'))"
   ]
  },
  {
   "cell_type": "code",
   "execution_count": 18,
   "metadata": {
    "ExecuteTime": {
     "end_time": "2021-06-20T22:47:46.997442Z",
     "start_time": "2021-06-20T22:47:46.827448Z"
    },
    "hidden": true
   },
   "outputs": [
    {
     "data": {
      "image/png": "[encoded data removed]",
      "text/plain": [
       "<Figure size 432x288 with 1 Axes>"
      ]
     },
     "metadata": {
      "needs_background": "light"
     },
     "output_type": "display_data"
    }
   ],
   "source": [
    "cols=['Implanted','Partial','Not Implanted']\n",
    "Implanted = Transferred.groupby(\n",
    "    ['CALIDAD+2', 'Outcome'])['CodigoCiclo'].count().unstack()[cols].plot(kind='bar',color=['b','g','r'])"
   ]
  },
  {
   "cell_type": "code",
   "execution_count": 20,
   "metadata": {
    "ExecuteTime": {
     "end_time": "2021-06-20T22:47:47.316858Z",
     "start_time": "2021-06-20T22:47:47.154817Z"
    },
    "hidden": true
   },
   "outputs": [
    {
     "data": {
      "text/plain": [
       "<matplotlib.legend.Legend at 0x29a7d4aebb0>"
      ]
     },
     "execution_count": 20,
     "metadata": {},
     "output_type": "execute_result"
    },
    {
     "data": {
      "image/png": "[encoded data removed]",
      "text/plain": [
       "<Figure size 432x288 with 1 Axes>"
      ]
     },
     "metadata": {
      "needs_background": "light"
     },
     "output_type": "display_data"
    }
   ],
   "source": [
    "cols=['Implanted','Partial','Not Implanted']\n",
    "Implanted = Transferred.groupby(\n",
    "    ['CALIDAD+2', 'Outcome'])['CodigoCiclo'].count().unstack()[cols]\n",
    "ImplantedNorm=Implanted.div(Implanted.sum(axis=1), axis=0)\n",
    "ImplantedNorm.plot(kind='bar',color=['b','g','r'])\n",
    "plt.xlabel('ASEBIR score')\n",
    "plt.legend(['Implanted', 'Partial','Not Implanted'])\n",
    "plt.legend(bbox_to_anchor=(1, 1))"
   ]
  },
  {
   "cell_type": "code",
   "execution_count": 21,
   "metadata": {
    "ExecuteTime": {
     "end_time": "2021-06-20T22:47:47.348859Z",
     "start_time": "2021-06-20T22:47:47.330858Z"
    },
    "hidden": true
   },
   "outputs": [
    {
     "data": {
      "text/html": [
       "<div>\n",
       "<style scoped>\n",
       "    .dataframe tbody tr th:only-of-type {\n",
       "        vertical-align: middle;\n",
       "    }\n",
       "\n",
       "    .dataframe tbody tr th {\n",
       "        vertical-align: top;\n",
       "    }\n",
       "\n",
       "    .dataframe thead th {\n",
       "        text-align: right;\n",
       "    }\n",
       "</style>\n",
       "<table border=\"1\" class=\"dataframe\">\n",
       "  <thead>\n",
       "    <tr style=\"text-align: right;\">\n",
       "      <th>Outcome</th>\n",
       "      <th>Implanted</th>\n",
       "      <th>Partial</th>\n",
       "      <th>Not Implanted</th>\n",
       "    </tr>\n",
       "    <tr>\n",
       "      <th>CALIDAD+2</th>\n",
       "      <th></th>\n",
       "      <th></th>\n",
       "      <th></th>\n",
       "    </tr>\n",
       "  </thead>\n",
       "  <tbody>\n",
       "    <tr>\n",
       "      <th>A</th>\n",
       "      <td>0.115732</td>\n",
       "      <td>0.254973</td>\n",
       "      <td>0.629295</td>\n",
       "    </tr>\n",
       "    <tr>\n",
       "      <th>B</th>\n",
       "      <td>0.059908</td>\n",
       "      <td>0.258065</td>\n",
       "      <td>0.682028</td>\n",
       "    </tr>\n",
       "    <tr>\n",
       "      <th>C</th>\n",
       "      <td>0.078283</td>\n",
       "      <td>0.229798</td>\n",
       "      <td>0.691919</td>\n",
       "    </tr>\n",
       "    <tr>\n",
       "      <th>D</th>\n",
       "      <td>NaN</td>\n",
       "      <td>0.215909</td>\n",
       "      <td>0.784091</td>\n",
       "    </tr>\n",
       "  </tbody>\n",
       "</table>\n",
       "</div>"
      ],
      "text/plain": [
       "Outcome    Implanted   Partial  Not Implanted\n",
       "CALIDAD+2                                    \n",
       "A           0.115732  0.254973       0.629295\n",
       "B           0.059908  0.258065       0.682028\n",
       "C           0.078283  0.229798       0.691919\n",
       "D                NaN  0.215909       0.784091"
      ]
     },
     "execution_count": 21,
     "metadata": {},
     "output_type": "execute_result"
    }
   ],
   "source": [
    "ImplantedNorm"
   ]
  },
  {
   "cell_type": "markdown",
   "metadata": {
    "heading_collapsed": true,
    "hidden": true
   },
   "source": [
    "## Embryo per cycle"
   ]
  },
  {
   "cell_type": "code",
   "execution_count": 26,
   "metadata": {
    "ExecuteTime": {
     "end_time": "2021-06-30T19:14:14.055777Z",
     "start_time": "2021-06-30T19:14:14.044792Z"
    },
    "hidden": true
   },
   "outputs": [],
   "source": [
    "data_cycles.loc[54,'nEmbObten']=4\n",
    "data_cycles.loc[54,'nEmbTrans']=3\n",
    "data_cycles.loc[452,'nEmbObten']=2\n",
    "data_cycles.loc[54,'nEmbTrans']=2\n",
    "data_cycles.loc[466,'nEmbObten']=7\n",
    "data_cycles.loc[466,'nEmbTrans']=2\n",
    "data_cycles.loc[263,'nEmbObten']=2\n",
    "data_cycles.loc[263,'nEmbTrans']=2\n",
    "data_cycles.loc[297,'nEmbObten']=4\n",
    "data_cycles.loc[297,'nEmbTrans']=2"
   ]
  },
  {
   "cell_type": "code",
   "execution_count": 27,
   "metadata": {
    "ExecuteTime": {
     "end_time": "2021-06-30T19:14:14.975773Z",
     "start_time": "2021-06-30T19:14:14.804772Z"
    },
    "hidden": true
   },
   "outputs": [
    {
     "data": {
      "text/plain": [
       "Text(0.5, 0, 'Number of embryos in the cycle')"
      ]
     },
     "execution_count": 27,
     "metadata": {},
     "output_type": "execute_result"
    },
    {
     "data": {
      "image/png": "[encoded data removed]",
      "text/plain": [
       "<Figure size 432x288 with 1 Axes>"
      ]
     },
     "metadata": {
      "needs_background": "light"
     },
     "output_type": "display_data"
    }
   ],
   "source": [
    "data_cycles.groupby('nEmbObten')['Codigo'].count().plot(kind='bar',color='b')\n",
    "plt.ylabel('Count')\n",
    "plt.xlabel('Number of embryos in the cycle')"
   ]
  },
  {
   "cell_type": "code",
   "execution_count": 28,
   "metadata": {
    "ExecuteTime": {
     "end_time": "2021-06-30T19:14:16.440774Z",
     "start_time": "2021-06-30T19:14:16.316775Z"
    },
    "hidden": true
   },
   "outputs": [
    {
     "data": {
      "text/plain": [
       "Text(0.5, 0, 'Number of embryos transferred in the cycle')"
      ]
     },
     "execution_count": 28,
     "metadata": {},
     "output_type": "execute_result"
    },
    {
     "data": {
      "image/png": "[encoded data removed]",
      "text/plain": [
       "<Figure size 432x288 with 1 Axes>"
      ]
     },
     "metadata": {
      "needs_background": "light"
     },
     "output_type": "display_data"
    }
   ],
   "source": [
    "data_cycles.groupby('nEmbTrans')['Codigo'].count().plot(kind='bar',color='b')\n",
    "plt.ylabel('Count')\n",
    "plt.xlabel('Number of embryos transferred in the cycle')"
   ]
  },
  {
   "cell_type": "markdown",
   "metadata": {
    "heading_collapsed": true,
    "hidden": true
   },
   "source": [
    "## ASEBIR quality by nEmbObten"
   ]
  },
  {
   "cell_type": "code",
   "execution_count": 34,
   "metadata": {
    "ExecuteTime": {
     "end_time": "2021-06-30T19:18:11.641771Z",
     "start_time": "2021-06-30T19:18:11.617792Z"
    },
    "hidden": true
   },
   "outputs": [],
   "source": [
    "data_merge=data_embryos.merge(data_cycles[['Codigo','nEmbObten','nEmbTrans']],left_on='CodigoCiclo',right_on='Codigo')\n",
    "data1=data_merge.groupby(\n",
    "    ['nEmbObten','CALIDAD+2'])['CodigoCiclo'].count().unstack()"
   ]
  },
  {
   "cell_type": "code",
   "execution_count": 35,
   "metadata": {
    "ExecuteTime": {
     "end_time": "2021-06-30T19:18:12.396773Z",
     "start_time": "2021-06-30T19:18:12.214775Z"
    },
    "hidden": true
   },
   "outputs": [
    {
     "data": {
      "text/plain": [
       "<matplotlib.axes._subplots.AxesSubplot at 0x21f5122d610>"
      ]
     },
     "execution_count": 35,
     "metadata": {},
     "output_type": "execute_result"
    },
    {
     "data": {
      "image/png": "[encoded data removed]",
      "text/plain": [
       "<Figure size 432x288 with 1 Axes>"
      ]
     },
     "metadata": {
      "needs_background": "light"
     },
     "output_type": "display_data"
    }
   ],
   "source": [
    "data1.div(data1.sum(axis=1), axis=0).plot()"
   ]
  },
  {
   "cell_type": "markdown",
   "metadata": {
    "heading_collapsed": true,
    "hidden": true
   },
   "source": [
    "## Success rate of the cycle by nEmbObten"
   ]
  },
  {
   "cell_type": "code",
   "execution_count": 43,
   "metadata": {
    "ExecuteTime": {
     "end_time": "2021-06-30T19:20:41.825789Z",
     "start_time": "2021-06-30T19:20:41.806780Z"
    },
    "hidden": true
   },
   "outputs": [
    {
     "name": "stderr",
     "output_type": "stream",
     "text": [
      "<ipython-input-43-242b08e49fb7>:2: SettingWithCopyWarning: \n",
      "A value is trying to be set on a copy of a slice from a DataFrame.\n",
      "Try using .loc[row_indexer,col_indexer] = value instead\n",
      "\n",
      "See the caveats in the documentation: https://pandas.pydata.org/pandas-docs/stable/user_guide/indexing.html#returning-a-view-versus-a-copy\n",
      "  ciclos['Outcome'] = np.where(ciclos['TasaExito']>0,1,0)\n"
     ]
    }
   ],
   "source": [
    "ciclos=data_cycles[['Codigo','nEmbObten','nEmbTrans','TasaExito']]\n",
    "ciclos['Outcome'] = np.where(ciclos['TasaExito']>0,1,0)\n",
    "ciclosgroup=ciclos.groupby(['nEmbObten'])['Outcome'].mean()"
   ]
  },
  {
   "cell_type": "code",
   "execution_count": 44,
   "metadata": {
    "ExecuteTime": {
     "end_time": "2021-06-30T19:20:42.295771Z",
     "start_time": "2021-06-30T19:20:42.150774Z"
    },
    "hidden": true
   },
   "outputs": [
    {
     "data": {
      "text/plain": [
       "<matplotlib.axes._subplots.AxesSubplot at 0x21f515f0e80>"
      ]
     },
     "execution_count": 44,
     "metadata": {},
     "output_type": "execute_result"
    },
    {
     "data": {
      "image/png": "[encoded data removed]",
      "text/plain": [
       "<Figure size 432x288 with 1 Axes>"
      ]
     },
     "metadata": {
      "needs_background": "light"
     },
     "output_type": "display_data"
    }
   ],
   "source": [
    "ciclosgroup.plot()"
   ]
  },
  {
   "cell_type": "code",
   "execution_count": 45,
   "metadata": {
    "ExecuteTime": {
     "end_time": "2021-06-30T19:20:43.109771Z",
     "start_time": "2021-06-30T19:20:42.863772Z"
    },
    "hidden": true
   },
   "outputs": [
    {
     "data": {
      "image/png": "[encoded data removed]",
      "text/plain": [
       "<Figure size 432x288 with 1 Axes>"
      ]
     },
     "metadata": {
      "needs_background": "light"
     },
     "output_type": "display_data"
    }
   ],
   "source": [
    "from sklearn.linear_model import LinearRegression\n",
    "\n",
    "x=ciclos['nEmbObten'].values[:,np.newaxis]\n",
    "y=ciclos['Outcome'].values\n",
    "\n",
    "model = LinearRegression()\n",
    "model.fit(x, y)\n",
    "\n",
    "plt.scatter(x, y,color='g')\n",
    "plt.plot(x, model.predict(x),color='k')\n",
    "\n",
    "plt.show()"
   ]
  },
  {
   "cell_type": "markdown",
   "metadata": {
    "heading_collapsed": true,
    "hidden": true
   },
   "source": [
    "## ASEBIR quality of transferred embryos by nEmbObten"
   ]
  },
  {
   "cell_type": "code",
   "execution_count": 36,
   "metadata": {
    "ExecuteTime": {
     "end_time": "2021-06-30T19:19:31.872794Z",
     "start_time": "2021-06-30T19:19:31.849774Z"
    },
    "hidden": true
   },
   "outputs": [],
   "source": [
    "data_merge=data_embryos.merge(data_cycles[['Codigo','nEmbObten','nEmbTrans']],left_on='CodigoCiclo',right_on='Codigo')\n",
    "data1=data_merge.groupby(\n",
    "    ['nEmbObten','CALIDAD+2'])['CodigoCiclo'].count().unstack()\n",
    "datatrans=data_merge[data_merge['Transfer']=='Si']"
   ]
  },
  {
   "cell_type": "code",
   "execution_count": 37,
   "metadata": {
    "ExecuteTime": {
     "end_time": "2021-06-30T19:19:32.662773Z",
     "start_time": "2021-06-30T19:19:32.489773Z"
    },
    "hidden": true
   },
   "outputs": [
    {
     "data": {
      "text/plain": [
       "<matplotlib.axes._subplots.AxesSubplot at 0x21f512a4b20>"
      ]
     },
     "execution_count": 37,
     "metadata": {},
     "output_type": "execute_result"
    },
    {
     "data": {
      "image/png": "[encoded data removed]",
      "text/plain": [
       "<Figure size 432x288 with 1 Axes>"
      ]
     },
     "metadata": {
      "needs_background": "light"
     },
     "output_type": "display_data"
    }
   ],
   "source": [
    "data1=datatrans.groupby(\n",
    "    ['nEmbObten','CALIDAD+2'])['CodigoCiclo'].count().unstack()\n",
    "data1.div(data1.sum(axis=1), axis=0).plot()"
   ]
  },
  {
   "cell_type": "markdown",
   "metadata": {
    "heading_collapsed": true,
    "hidden": true
   },
   "source": [
    "## ASEBIR quality of non-transferred embryos by nEmbObten"
   ]
  },
  {
   "cell_type": "code",
   "execution_count": 38,
   "metadata": {
    "ExecuteTime": {
     "end_time": "2021-06-30T19:19:54.727771Z",
     "start_time": "2021-06-30T19:19:54.714773Z"
    },
    "hidden": true
   },
   "outputs": [],
   "source": [
    "datatrans=data_merge[data_merge['Transfer']=='No']"
   ]
  },
  {
   "cell_type": "code",
   "execution_count": 39,
   "metadata": {
    "ExecuteTime": {
     "end_time": "2021-06-30T19:19:55.247773Z",
     "start_time": "2021-06-30T19:19:55.066791Z"
    },
    "hidden": true
   },
   "outputs": [
    {
     "data": {
      "text/plain": [
       "<matplotlib.axes._subplots.AxesSubplot at 0x21f5131a2b0>"
      ]
     },
     "execution_count": 39,
     "metadata": {},
     "output_type": "execute_result"
    },
    {
     "data": {
      "image/png": "[encoded data removed]",
      "text/plain": [
       "<Figure size 432x288 with 1 Axes>"
      ]
     },
     "metadata": {
      "needs_background": "light"
     },
     "output_type": "display_data"
    }
   ],
   "source": [
    "data1=datatrans.groupby(\n",
    "    ['nEmbObten','CALIDAD+2'])['CodigoCiclo'].count().unstack()\n",
    "data1.div(data1.sum(axis=1), axis=0).plot()"
   ]
  },
  {
   "cell_type": "code",
   "execution_count": 40,
   "metadata": {
    "ExecuteTime": {
     "end_time": "2021-06-30T19:20:31.471772Z",
     "start_time": "2021-06-30T19:20:31.429772Z"
    },
    "hidden": true
   },
   "outputs": [],
   "source": [
    "data2=datatrans.groupby(\n",
    "    ['CodigoCiclo','CALIDAD+2'])['CodigoOvoc'].count().unstack()\n",
    "data3=data2.merge(datatrans[['CodigoCiclo','nEmbObten','nEmbTrans']],left_index=True,right_on='CodigoCiclo',how='right')\n",
    "data3=data3.groupby(['CodigoCiclo']).first().reset_index()\n",
    "data3.fillna(0,inplace=True)\n",
    "data3[['A','B','C','D']]=data3[['A','B','C','D']].div(data3['nEmbObten']-data3['nEmbTrans'], axis=0)"
   ]
  },
  {
   "cell_type": "code",
   "execution_count": 46,
   "metadata": {
    "ExecuteTime": {
     "end_time": "2021-06-30T19:20:46.435774Z",
     "start_time": "2021-06-30T19:20:46.271773Z"
    },
    "hidden": true
   },
   "outputs": [
    {
     "data": {
      "image/png": "[encoded data removed]",
      "text/plain": [
       "<Figure size 432x288 with 1 Axes>"
      ]
     },
     "metadata": {
      "needs_background": "light"
     },
     "output_type": "display_data"
    }
   ],
   "source": [
    "x=data3['nEmbObten'][:,np.newaxis]\n",
    "\n",
    "models=[]\n",
    "for Q in ['A','B','C','D']:\n",
    "    y=data3[Q].values\n",
    "\n",
    "    model = LinearRegression()\n",
    "    model.fit(x, y)\n",
    "    plt.plot(x, model.predict(x))\n",
    "plt.legend(['A','B','C','D'])\n",
    "plt.show()"
   ]
  }
 ],
 "metadata": {
  "hide_input": false,
  "kernelspec": {
   "display_name": "Python 3",
   "language": "python",
   "name": "python3"
  },
  "language_info": {
   "codemirror_mode": {
    "name": "ipython",
    "version": 3
   },
   "file_extension": ".py",
   "mimetype": "text/x-python",
   "name": "python",
   "nbconvert_exporter": "python",
   "pygments_lexer": "ipython3",
   "version": "3.8.3"
  },
  "latex_envs": {
   "LaTeX_envs_menu_present": true,
   "autoclose": false,
   "autocomplete": true,
   "bibliofile": "biblio.bib",
   "cite_by": "apalike",
   "current_citInitial": 1,
   "eqLabelWithNumbers": true,
   "eqNumInitial": 1,
   "hotkeys": {
    "equation": "Ctrl-E",
    "itemize": "Ctrl-I"
   },
   "labels_anchors": false,
   "latex_user_defs": false,
   "report_style_numbering": false,
   "user_envs_cfg": false
  }
 },
 "nbformat": 4,
 "nbformat_minor": 4
}
